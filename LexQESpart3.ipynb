{
 "cells": [
  {
   "cell_type": "code",
   "execution_count": 10,
   "id": "9ef8aae7",
   "metadata": {},
   "outputs": [],
   "source": [
    "import pandas as pd\n",
    "import numpy as np"
   ]
  },
  {
   "cell_type": "code",
   "execution_count": 7,
   "id": "6b82f0d3",
   "metadata": {},
   "outputs": [
    {
     "data": {
      "text/html": [
       "<div>\n",
       "<style scoped>\n",
       "    .dataframe tbody tr th:only-of-type {\n",
       "        vertical-align: middle;\n",
       "    }\n",
       "\n",
       "    .dataframe tbody tr th {\n",
       "        vertical-align: top;\n",
       "    }\n",
       "\n",
       "    .dataframe thead th {\n",
       "        text-align: right;\n",
       "    }\n",
       "</style>\n",
       "<table border=\"1\" class=\"dataframe\">\n",
       "  <thead>\n",
       "    <tr style=\"text-align: right;\">\n",
       "      <th></th>\n",
       "      <th>CountryCode</th>\n",
       "      <th>variable</th>\n",
       "      <th>value</th>\n",
       "      <th>country_subset</th>\n",
       "    </tr>\n",
       "  </thead>\n",
       "  <tbody>\n",
       "    <tr>\n",
       "      <th>0</th>\n",
       "      <td>EU_Total</td>\n",
       "      <td>N</td>\n",
       "      <td>93079</td>\n",
       "      <td>EU_Total N</td>\n",
       "    </tr>\n",
       "    <tr>\n",
       "      <th>1</th>\n",
       "      <td>Austria</td>\n",
       "      <td>N</td>\n",
       "      <td>2543</td>\n",
       "      <td>Austria N</td>\n",
       "    </tr>\n",
       "    <tr>\n",
       "      <th>2</th>\n",
       "      <td>Belgium</td>\n",
       "      <td>N</td>\n",
       "      <td>2901</td>\n",
       "      <td>Belgium N</td>\n",
       "    </tr>\n",
       "    <tr>\n",
       "      <th>3</th>\n",
       "      <td>Bulgaria</td>\n",
       "      <td>N</td>\n",
       "      <td>1033</td>\n",
       "      <td>Bulgaria N</td>\n",
       "    </tr>\n",
       "    <tr>\n",
       "      <th>4</th>\n",
       "      <td>Cyprus</td>\n",
       "      <td>N</td>\n",
       "      <td>265</td>\n",
       "      <td>Cyprus N</td>\n",
       "    </tr>\n",
       "  </tbody>\n",
       "</table>\n",
       "</div>"
      ],
      "text/plain": [
       "  CountryCode variable  value country_subset\n",
       "0    EU_Total        N  93079     EU_Total N\n",
       "1     Austria        N   2543      Austria N\n",
       "2     Belgium        N   2901      Belgium N\n",
       "3    Bulgaria        N   1033     Bulgaria N\n",
       "4      Cyprus        N    265       Cyprus N"
      ]
     },
     "metadata": {},
     "output_type": "display_data"
    }
   ],
   "source": [
    "population_vert = pd.read_csv('population_vert_20220207.csv')\n",
    "population_vert = population_vert.drop('Unnamed: 0',axis=1)\n",
    "display(population_vert.head())"
   ]
  },
  {
   "cell_type": "markdown",
   "id": "db4f6a4f",
   "metadata": {},
   "source": [
    "# Hypothesis testing"
   ]
  },
  {
   "cell_type": "code",
   "execution_count": null,
   "id": "26cc9ae9",
   "metadata": {},
   "outputs": [],
   "source": [
    "#Given the type of data I have, I will be doing a hypothesis based on proportions. "
   ]
  },
  {
   "cell_type": "code",
   "execution_count": null,
   "id": "a82da8a9",
   "metadata": {},
   "outputs": [],
   "source": [
    "# https://medium.com/analytics-vidhya/testing-a-difference-in-population-proportions-in-python-89d57a06254"
   ]
  },
  {
   "cell_type": "code",
   "execution_count": null,
   "id": "3305f13e",
   "metadata": {},
   "outputs": [],
   "source": [
    "#pop Europe gender https://www.statista.com/statistics/755225/population-of-europe-by-gender/#:~:text=In%202021%2C%20the%20female%20population,male%20population%20of%20361.2%20million."
   ]
  },
  {
   "cell_type": "code",
   "execution_count": 12,
   "id": "29589457",
   "metadata": {},
   "outputs": [
    {
     "data": {
      "text/html": [
       "<div>\n",
       "<style scoped>\n",
       "    .dataframe tbody tr th:only-of-type {\n",
       "        vertical-align: middle;\n",
       "    }\n",
       "\n",
       "    .dataframe tbody tr th {\n",
       "        vertical-align: top;\n",
       "    }\n",
       "\n",
       "    .dataframe thead th {\n",
       "        text-align: right;\n",
       "    }\n",
       "</style>\n",
       "<table border=\"1\" class=\"dataframe\">\n",
       "  <thead>\n",
       "    <tr style=\"text-align: right;\">\n",
       "      <th></th>\n",
       "      <th>Female</th>\n",
       "      <th>Male</th>\n",
       "    </tr>\n",
       "  </thead>\n",
       "  <tbody>\n",
       "    <tr>\n",
       "      <th>EU</th>\n",
       "      <td>383163</td>\n",
       "      <td>356062</td>\n",
       "    </tr>\n",
       "    <tr>\n",
       "      <th>Survey</th>\n",
       "      <td>43590</td>\n",
       "      <td>129296</td>\n",
       "    </tr>\n",
       "  </tbody>\n",
       "</table>\n",
       "</div>"
      ],
      "text/plain": [
       "        Female    Male\n",
       "EU      383163  356062\n",
       "Survey   43590  129296"
      ]
     },
     "execution_count": 12,
     "metadata": {},
     "output_type": "execute_result"
    }
   ],
   "source": [
    "sample_pop = [{'Female': 383163, 'Male': 356062},\n",
    "        {'Female':43590, 'Male': 129296}]\n",
    " \n",
    "# Creates DataFrame.\n",
    "sample_pop = pd.DataFrame(sample_pop, index =['EU', 'Survey'])\n",
    "sample_pop"
   ]
  },
  {
   "cell_type": "code",
   "execution_count": null,
   "id": "0c2e7167",
   "metadata": {},
   "outputs": [],
   "source": []
  },
  {
   "cell_type": "code",
   "execution_count": null,
   "id": "3770d5e4",
   "metadata": {},
   "outputs": [],
   "source": []
  },
  {
   "cell_type": "code",
   "execution_count": null,
   "id": "a6477fdc",
   "metadata": {},
   "outputs": [],
   "source": []
  },
  {
   "cell_type": "code",
   "execution_count": null,
   "id": "815b697e",
   "metadata": {},
   "outputs": [],
   "source": []
  },
  {
   "cell_type": "code",
   "execution_count": null,
   "id": "9d644984",
   "metadata": {},
   "outputs": [],
   "source": []
  },
  {
   "cell_type": "code",
   "execution_count": null,
   "id": "2174b61a",
   "metadata": {},
   "outputs": [],
   "source": []
  },
  {
   "cell_type": "code",
   "execution_count": null,
   "id": "1eb16e69",
   "metadata": {},
   "outputs": [],
   "source": []
  },
  {
   "cell_type": "code",
   "execution_count": null,
   "id": "bf783be1",
   "metadata": {},
   "outputs": [],
   "source": []
  },
  {
   "cell_type": "code",
   "execution_count": null,
   "id": "3cb3fe91",
   "metadata": {},
   "outputs": [],
   "source": []
  },
  {
   "cell_type": "code",
   "execution_count": null,
   "id": "5548054d",
   "metadata": {},
   "outputs": [],
   "source": []
  },
  {
   "cell_type": "code",
   "execution_count": null,
   "id": "5f85977c",
   "metadata": {},
   "outputs": [],
   "source": []
  }
 ],
 "metadata": {
  "kernelspec": {
   "display_name": "Python 3 (ipykernel)",
   "language": "python",
   "name": "python3"
  },
  "language_info": {
   "codemirror_mode": {
    "name": "ipython",
    "version": 3
   },
   "file_extension": ".py",
   "mimetype": "text/x-python",
   "name": "python",
   "nbconvert_exporter": "python",
   "pygments_lexer": "ipython3",
   "version": "3.9.7"
  }
 },
 "nbformat": 4,
 "nbformat_minor": 5
}
