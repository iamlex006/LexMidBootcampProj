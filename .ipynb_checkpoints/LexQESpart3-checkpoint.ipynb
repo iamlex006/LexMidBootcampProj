{
 "cells": [
  {
   "cell_type": "markdown",
   "id": "db4f6a4f",
   "metadata": {},
   "source": [
    "# Hypothesis testing"
   ]
  },
  {
   "cell_type": "code",
   "execution_count": null,
   "id": "26cc9ae9",
   "metadata": {},
   "outputs": [],
   "source": [
    "#Given the type of data I have, I will be doing a hypothesis based on proportions. "
   ]
  },
  {
   "cell_type": "code",
   "execution_count": null,
   "id": "832f237d",
   "metadata": {},
   "outputs": [],
   "source": [
    "#After some research I found an example of hypothesis testing on proportion, comparing 2 populations. \n",
    "# https://sonalake.com/latest/hypothesis-testing-of-proportion-based-samples/"
   ]
  },
  {
   "cell_type": "code",
   "execution_count": null,
   "id": "2c99d19d",
   "metadata": {},
   "outputs": [],
   "source": [
    "#I want to compare the proportion of males in the survey population with the proportion of males in the EU population that same year.\n",
    "#My 0 hypothesis is that the proportion of males is identical between the survey and the EU population. "
   ]
  },
  {
   "cell_type": "code",
   "execution_count": 8,
   "id": "3770d5e4",
   "metadata": {},
   "outputs": [
    {
     "name": "stdout",
     "output_type": "stream",
     "text": [
      "z_stat: -122.424, p_value: 0.000\n",
      "Reject the null hypothesis - suggest the alternative hypothesis is true\n"
     ]
    }
   ],
   "source": [
    "from statsmodels.stats.proportion import proportions_ztest\n",
    "import numpy as np\n",
    "\n",
    "significance = 0.05\n",
    "\n",
    "sample_male_eu, sample_size_eu = (356062, 739225)\n",
    "sample_male_survey, sample_size_survey = (64648, 93079)\n",
    "\n",
    "males = np.array([sample_male_eu, sample_male_survey])\n",
    "samples = np.array([sample_size_eu, sample_size_survey])\n",
    "\n",
    "stat, p_value = proportions_ztest(count=males, nobs=samples,  alternative='two-sided')\n",
    "\n",
    "print('z_stat: %0.3f, p_value: %0.3f' % (stat, p_value))\n",
    "if p_value > significance:\n",
    "   print (\"Fail to reject the null hypothesis - we have nothing else to say\")\n",
    "else:\n",
    "   print (\"Reject the null hypothesis - suggest the alternative hypothesis is true\")"
   ]
  },
  {
   "cell_type": "code",
   "execution_count": null,
   "id": "a6477fdc",
   "metadata": {},
   "outputs": [],
   "source": [
    "#We can reject the 0 hypothesis and since the z_stat is negative we can infer that the proportion of males in the EU population is (significantly) smaller than in the survey population. "
   ]
  },
  {
   "cell_type": "code",
   "execution_count": null,
   "id": "815b697e",
   "metadata": {},
   "outputs": [],
   "source": []
  },
  {
   "cell_type": "code",
   "execution_count": null,
   "id": "9d644984",
   "metadata": {},
   "outputs": [],
   "source": []
  },
  {
   "cell_type": "code",
   "execution_count": null,
   "id": "2174b61a",
   "metadata": {},
   "outputs": [],
   "source": []
  },
  {
   "cell_type": "code",
   "execution_count": null,
   "id": "1eb16e69",
   "metadata": {},
   "outputs": [],
   "source": []
  },
  {
   "cell_type": "code",
   "execution_count": null,
   "id": "bf783be1",
   "metadata": {},
   "outputs": [],
   "source": []
  },
  {
   "cell_type": "code",
   "execution_count": null,
   "id": "3cb3fe91",
   "metadata": {},
   "outputs": [],
   "source": []
  },
  {
   "cell_type": "code",
   "execution_count": null,
   "id": "5548054d",
   "metadata": {},
   "outputs": [],
   "source": []
  },
  {
   "cell_type": "code",
   "execution_count": null,
   "id": "5f85977c",
   "metadata": {},
   "outputs": [],
   "source": []
  }
 ],
 "metadata": {
  "kernelspec": {
   "display_name": "Python 3 (ipykernel)",
   "language": "python",
   "name": "python3"
  },
  "language_info": {
   "codemirror_mode": {
    "name": "ipython",
    "version": 3
   },
   "file_extension": ".py",
   "mimetype": "text/x-python",
   "name": "python",
   "nbconvert_exporter": "python",
   "pygments_lexer": "ipython3",
   "version": "3.9.7"
  }
 },
 "nbformat": 4,
 "nbformat_minor": 5
}
